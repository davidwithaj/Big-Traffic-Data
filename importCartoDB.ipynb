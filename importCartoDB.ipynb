{
 "cells": [
  {
   "cell_type": "code",
   "execution_count": 4,
   "metadata": {},
   "outputs": [
    {
     "name": "stdout",
     "output_type": "stream",
     "text": [
      "[<carto.datasets.Dataset object at 0x113b1c978>]\n"
     ]
    },
    {
     "name": "stderr",
     "output_type": "stream",
     "text": [
      "/Users/javidamir/anaconda/lib/python3.6/site-packages/carto/resources.py:90: FutureWarning: This is part of a non-public CARTO API and may change in the future. Take this into account if you are using this in a production environment\n",
      "  warnings.warn('This is part of a non-public CARTO API and may change in the future. Take this into account if you are using this in a production environment', FutureWarning)\n"
     ]
    }
   ],
   "source": [
    "from carto.datasets import DatasetManager\n",
    "from carto.auth import APIKeyAuthClient\n",
    "LOCAL_FILE_OR_URL = \"/Users/javidamir/Traffic_PickUp.csv\"\n",
    "USERNAME = \"davidwithaj\"\n",
    "USR_BASE_URL = \"https://davidwithaj.carto.com/\"\n",
    "auth_client = APIKeyAuthClient(api_key=\"8ad7b0b7e2ff03738e02444fc13e7bc80406ec14\", base_url=USR_BASE_URL)\n",
    "dataset_manager = DatasetManager(auth_client)\n",
    "dataset = dataset_manager.create(LOCAL_FILE_OR_URL)"
   ]
  },
  {
   "cell_type": "code",
   "execution_count": null,
   "metadata": {},
   "outputs": [],
   "source": []
  }
 ],
 "metadata": {
  "kernelspec": {
   "display_name": "Python 3",
   "language": "python",
   "name": "python3"
  },
  "language_info": {
   "codemirror_mode": {
    "name": "ipython",
    "version": 3
   },
   "file_extension": ".py",
   "mimetype": "text/x-python",
   "name": "python",
   "nbconvert_exporter": "python",
   "pygments_lexer": "ipython3",
   "version": "3.6.2"
  }
 },
 "nbformat": 4,
 "nbformat_minor": 2
}
