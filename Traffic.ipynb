{
 "cells": [
  {
   "cell_type": "code",
   "execution_count": 56,
   "metadata": {},
   "outputs": [],
   "source": [
    "import findspark\n",
    "findspark.init()\n",
    "from pyspark.sql import SparkSession\n",
    "spark = SparkSession.builder.appName(\"traffic\").getOrCreate()\n",
    "from pyspark.sql.functions import * "
   ]
  },
  {
   "cell_type": "code",
   "execution_count": 57,
   "metadata": {},
   "outputs": [],
   "source": [
    "df = spark.read.csv(\"From100G.csv\",header=True, inferSchema=True)"
   ]
  },
  {
   "cell_type": "code",
   "execution_count": 58,
   "metadata": {},
   "outputs": [],
   "source": [
    "#df.printSchema()"
   ]
  },
  {
   "cell_type": "code",
   "execution_count": 59,
   "metadata": {},
   "outputs": [],
   "source": [
    "revised_df = df.select([\"tpep_picku\",\"id\",\"pickup_lon\",\"pickup_lat\"]).orderBy(\"tpep_picku\")\n",
    "#revised_df.toPandas().to_csv('Traffic_PickUp.csv')"
   ]
  },
  {
   "cell_type": "code",
   "execution_count": 60,
   "metadata": {},
   "outputs": [],
   "source": [
    "revised_df = revised_df.select(hour(df[\"tpep_picku\"]).alias('hours'),\"id\",\"pickup_lon\")\n",
    "#revised_df.select(countDistinct(\"id\")).show()"
   ]
  },
  {
   "cell_type": "code",
   "execution_count": 61,
   "metadata": {},
   "outputs": [
    {
     "name": "stdout",
     "output_type": "stream",
     "text": [
      "+-----+---+-------------+\n",
      "|hours| id|   pickup_lon|\n",
      "+-----+---+-------------+\n",
      "|   10|309|-73.952445984|\n",
      "|   10|381|-73.974319458|\n",
      "|   10|254|-73.988838196|\n",
      "|   10|309|-73.954147339|\n",
      "|   10|454|-73.988494873|\n",
      "|   10|454|-73.986076355|\n",
      "|   10|329| -73.98551178|\n",
      "|   10|430|-73.978416443|\n",
      "|   10|402| -74.00579071|\n",
      "|   10|258|-73.956924438|\n",
      "|   10|378|-73.994003296|\n",
      "|   10|380|-73.977714539|\n",
      "|   10|551|-74.007522583|\n",
      "|   10|329|-73.985588074|\n",
      "|   10|260|-73.948204041|\n",
      "|   10|308|-73.963226318|\n",
      "|   10|356|-73.977333069|\n",
      "|   10|309| -73.95426178|\n",
      "|   10|284|-73.950744629|\n",
      "|   10|205| -73.97833252|\n",
      "+-----+---+-------------+\n",
      "only showing top 20 rows\n",
      "\n"
     ]
    }
   ],
   "source": [
    "revised_df.show()"
   ]
  },
  {
   "cell_type": "code",
   "execution_count": 62,
   "metadata": {},
   "outputs": [],
   "source": [
    "#new_df = revised_df.select(\"id\").orderBy('id').show()\n",
    "#new_df.count()"
   ]
  },
  {
   "cell_type": "code",
   "execution_count": 63,
   "metadata": {},
   "outputs": [
    {
     "name": "stdout",
     "output_type": "stream",
     "text": [
      "+---+--------+\n",
      "| id|count@10|\n",
      "+---+--------+\n",
      "|  0|     124|\n",
      "| 12|       1|\n",
      "| 34|       2|\n",
      "| 59|       1|\n",
      "| 83|       3|\n",
      "| 84|       1|\n",
      "| 85|       1|\n",
      "|107|       4|\n",
      "|108|       3|\n",
      "|111|       1|\n",
      "|112|       1|\n",
      "|132|      14|\n",
      "|133|       3|\n",
      "|134|       2|\n",
      "|135|       1|\n",
      "|156|      12|\n",
      "|157|      13|\n",
      "|158|       6|\n",
      "|159|       1|\n",
      "|160|       2|\n",
      "+---+--------+\n",
      "only showing top 20 rows\n",
      "\n",
      "+---+--------+\n",
      "| id|count@11|\n",
      "+---+--------+\n",
      "|  0|     552|\n",
      "| 10|       9|\n",
      "| 34|       3|\n",
      "| 38|       1|\n",
      "| 41|       1|\n",
      "| 58|       1|\n",
      "| 59|       9|\n",
      "| 60|       1|\n",
      "| 61|       5|\n",
      "| 83|      10|\n",
      "| 85|       3|\n",
      "| 86|       4|\n",
      "| 87|       3|\n",
      "|107|      11|\n",
      "|108|      28|\n",
      "|109|       3|\n",
      "|110|       6|\n",
      "|111|       4|\n",
      "|112|       1|\n",
      "|113|       1|\n",
      "+---+--------+\n",
      "only showing top 20 rows\n",
      "\n"
     ]
    }
   ],
   "source": [
    "for i in range(10,12):\n",
    "    Time = revised_df.filter(revised_df[\"hours\"] == i)\n",
    "    hours = Time.groupBy(\"id\").count().orderBy(\"id\").withColumnRenamed(\"count\",\"count@%s\"%(i)).show()\n",
    "    #hours.toPandas().to_csv('mycsv.csv')"
   ]
  },
  {
   "cell_type": "code",
   "execution_count": 40,
   "metadata": {},
   "outputs": [],
   "source": []
  },
  {
   "cell_type": "code",
   "execution_count": 43,
   "metadata": {},
   "outputs": [],
   "source": []
  },
  {
   "cell_type": "code",
   "execution_count": null,
   "metadata": {
    "scrolled": true
   },
   "outputs": [],
   "source": []
  },
  {
   "cell_type": "code",
   "execution_count": null,
   "metadata": {},
   "outputs": [],
   "source": []
  }
 ],
 "metadata": {
  "kernelspec": {
   "display_name": "Python 3",
   "language": "python",
   "name": "python3"
  },
  "language_info": {
   "codemirror_mode": {
    "name": "ipython",
    "version": 3
   },
   "file_extension": ".py",
   "mimetype": "text/x-python",
   "name": "python",
   "nbconvert_exporter": "python",
   "pygments_lexer": "ipython3",
   "version": "3.6.2"
  }
 },
 "nbformat": 4,
 "nbformat_minor": 2
}
