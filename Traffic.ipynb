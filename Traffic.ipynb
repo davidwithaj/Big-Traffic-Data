{
 "cells": [
  {
   "cell_type": "code",
   "execution_count": 106,
   "metadata": {},
   "outputs": [],
   "source": [
    "import findspark\n",
    "findspark.init()\n",
    "from pyspark.sql import SparkSession\n",
    "spark = SparkSession.builder.appName(\"traffic\").getOrCreate()\n",
    "from pyspark.sql.functions import * "
   ]
  },
  {
   "cell_type": "code",
   "execution_count": 121,
   "metadata": {},
   "outputs": [],
   "source": [
    "df = spark.read.csv(\"Traffic_PickUp.csv\",header=True, inferSchema=True)"
   ]
  },
  {
   "cell_type": "code",
   "execution_count": 108,
   "metadata": {},
   "outputs": [],
   "source": [
    "#df.printSchema()"
   ]
  },
  {
   "cell_type": "code",
   "execution_count": 122,
   "metadata": {},
   "outputs": [],
   "source": [
    "revised_df = df.select([\"tpep_picku\",\"id\",\"pickup_lon\",\"pickup_lat\"])"
   ]
  },
  {
   "cell_type": "code",
   "execution_count": 123,
   "metadata": {},
   "outputs": [],
   "source": [
    "pickup = df[\"tpep_picku\"]\n",
    "revised_df = revised_df.select(year(pickup).alias(\"year\"),month(pickup).alias(\"month\"),dayofmonth(pickup).alias('day'),hour(pickup).alias('hours'),\"id\",\"pickup_lon\")\n",
    "#revised_df.select(countDistinct(\"id\")).show()\n",
    "#revised_df.show()"
   ]
  },
  {
   "cell_type": "code",
   "execution_count": 128,
   "metadata": {},
   "outputs": [],
   "source": [
    "id_column = revised_df.select(df[\"id\"]).distinct()"
   ]
  },
  {
   "cell_type": "code",
   "execution_count": 112,
   "metadata": {
    "scrolled": false
   },
   "outputs": [
    {
     "name": "stdout",
     "output_type": "stream",
     "text": [
      "+----+-----+---+-----+---+-------------+\n",
      "|year|month|day|hours| id|   pickup_lon|\n",
      "+----+-----+---+-----+---+-------------+\n",
      "|2015|   12| 17|   10|254|-73.988838196|\n",
      "|2015|   12| 17|   10|309|-73.954147339|\n",
      "|2015|   12| 17|   10|381|-73.974319458|\n",
      "|2015|   12| 17|   10|309|-73.952445984|\n",
      "|2015|   12| 17|   10|454|-73.988494873|\n",
      "|2015|   12| 17|   10|454|-73.986076355|\n",
      "|2015|   12| 17|   10|430|-73.978416443|\n",
      "|2015|   12| 17|   10|258|-73.956924438|\n",
      "|2015|   12| 17|   10|329| -73.98551178|\n",
      "|2015|   12| 17|   10|402| -74.00579071|\n",
      "|2015|   12| 17|   10|551|-74.007522583|\n",
      "|2015|   12| 17|   10|378|-73.994003296|\n",
      "|2015|   12| 17|   10|329|-73.985588074|\n",
      "|2015|   12| 17|   10|380|-73.977714539|\n",
      "|2015|   12| 17|   10|260|-73.948204041|\n",
      "|2015|   12| 17|   10|308|-73.963226318|\n",
      "|2015|   12| 17|   10|160|-73.947006226|\n",
      "|2015|   12| 17|   10|284|-73.950744629|\n",
      "|2015|   12| 17|   10|205| -73.97833252|\n",
      "|2015|   12| 17|   10|309| -73.95426178|\n",
      "+----+-----+---+-----+---+-------------+\n",
      "only showing top 20 rows\n",
      "\n"
     ]
    }
   ],
   "source": [
    "#revised_df.show()"
   ]
  },
  {
   "cell_type": "code",
   "execution_count": 129,
   "metadata": {},
   "outputs": [],
   "source": [
    "maximum_month = revised_df.agg({\"month\":\"max\"}).collect()[0][0]\n",
    "minimum_month = revised_df.agg({\"month\":\"min\"}).collect()[0][0]"
   ]
  },
  {
   "cell_type": "code",
   "execution_count": 114,
   "metadata": {},
   "outputs": [],
   "source": [
    "maximum_year = revised_df.agg({\"year\":\"max\"}).collect()[0][0]\n",
    "minimum_year = revised_df.agg({\"year\":\"min\"}).collect()[0][0]"
   ]
  },
  {
   "cell_type": "code",
   "execution_count": 115,
   "metadata": {},
   "outputs": [],
   "source": [
    "maximum_day = revised_df.agg({\"day\":\"max\"}).collect()[0][0]\n",
    "minimum_day = revised_df.agg({\"day\":\"min\"}).collect()[0][0]"
   ]
  },
  {
   "cell_type": "code",
   "execution_count": 116,
   "metadata": {},
   "outputs": [],
   "source": [
    "maximum_hour = revised_df.agg({\"hours\":\"max\"}).collect()[0][0]\n",
    "minimum_hour = revised_df.agg({\"hours\":\"min\"}).collect()[0][0]"
   ]
  },
  {
   "cell_type": "code",
   "execution_count": 119,
   "metadata": {
    "scrolled": false
   },
   "outputs": [],
   "source": [
    "for y in range(minimum_year,maximum_year+1): #loop thorough years\n",
    "    for m in range(minimum_month,maximum_month+1): #loop through months\n",
    "        for d in range(minimum_day,maximum_day+1): #loop through days\n",
    "            for h in range(minimum_hour,maximum_hour+1): #loop through hours\n",
    "                Time = revised_df.filter(revised_df[\"hours\"] == h)\n",
    "                hours = Time.groupBy(\"id\").count().withColumnRenamed(\"count\",\"%i-%i-%i %i:00\"%(y,m,d,h))\n",
    "                id_column = id_column.join(hours,['id'],\"full_outer\")\n",
    "\n",
    "id_column = id_column.orderBy(\"id\")\n",
    "#id_column.toPandas().to_csv('mycsv.csv')    "
   ]
  },
  {
   "cell_type": "code",
   "execution_count": 120,
   "metadata": {},
   "outputs": [
    {
     "name": "stdout",
     "output_type": "stream",
     "text": [
      "+---+----------------+----------------+----------------+----------------+----------------+----------------+----------------+----------------+----------------+----------------+----------------+----------------+\n",
      "| id|2015-12-17 10:00|2015-12-17 11:00|2015-12-17 12:00|2015-12-17 13:00|2015-12-17 14:00|2015-12-17 15:00|2015-12-17 10:00|2015-12-17 11:00|2015-12-17 12:00|2015-12-17 13:00|2015-12-17 14:00|2015-12-17 15:00|\n",
      "+---+----------------+----------------+----------------+----------------+----------------+----------------+----------------+----------------+----------------+----------------+----------------+----------------+\n",
      "|  0|             124|             552|             636|             707|             899|             625|             124|             552|             636|             707|             899|             625|\n",
      "| 10|            null|               9|               3|               4|               3|               7|            null|               9|               3|               4|               3|               7|\n",
      "| 11|            null|            null|            null|               1|            null|            null|            null|            null|            null|               1|            null|            null|\n",
      "| 12|               1|            null|            null|            null|            null|            null|               1|            null|            null|            null|            null|            null|\n",
      "| 16|            null|            null|            null|            null|               1|            null|            null|            null|            null|            null|               1|            null|\n",
      "| 34|               2|               3|               4|               3|               3|               6|               2|               3|               4|               3|               3|               6|\n",
      "| 35|            null|            null|               1|               2|               2|               2|            null|            null|               1|               2|               2|               2|\n",
      "| 36|            null|            null|            null|            null|            null|               1|            null|            null|            null|            null|            null|               1|\n",
      "| 37|            null|            null|               1|            null|            null|            null|            null|            null|               1|            null|            null|            null|\n",
      "| 38|            null|               1|            null|            null|            null|               2|            null|               1|            null|            null|            null|               2|\n",
      "| 39|            null|            null|            null|            null|               1|            null|            null|            null|            null|            null|               1|            null|\n",
      "| 41|            null|               1|            null|            null|            null|            null|            null|               1|            null|            null|            null|            null|\n",
      "| 42|            null|            null|            null|               2|            null|            null|            null|            null|            null|               2|            null|            null|\n",
      "| 44|            null|            null|               1|            null|            null|            null|            null|            null|               1|            null|            null|            null|\n",
      "| 58|            null|               1|               4|               3|               5|               2|            null|               1|               4|               3|               5|               2|\n",
      "| 59|               1|               9|               6|              11|               7|               6|               1|               9|               6|              11|               7|               6|\n",
      "| 60|            null|               1|               1|               2|               2|               3|            null|               1|               1|               2|               2|               3|\n",
      "| 61|            null|               5|               4|               1|               6|               2|            null|               5|               4|               1|               6|               2|\n",
      "| 62|            null|            null|            null|            null|            null|               2|            null|            null|            null|            null|            null|               2|\n",
      "| 83|               3|              10|              11|              11|              13|              13|               3|              10|              11|              11|              13|              13|\n",
      "+---+----------------+----------------+----------------+----------------+----------------+----------------+----------------+----------------+----------------+----------------+----------------+----------------+\n",
      "only showing top 20 rows\n",
      "\n"
     ]
    }
   ],
   "source": [
    "id_column.show()"
   ]
  },
  {
   "cell_type": "code",
   "execution_count": null,
   "metadata": {},
   "outputs": [],
   "source": []
  }
 ],
 "metadata": {
  "kernelspec": {
   "display_name": "Python 3",
   "language": "python",
   "name": "python3"
  },
  "language_info": {
   "codemirror_mode": {
    "name": "ipython",
    "version": 3
   },
   "file_extension": ".py",
   "mimetype": "text/x-python",
   "name": "python",
   "nbconvert_exporter": "python",
   "pygments_lexer": "ipython3",
   "version": "3.6.2"
  }
 },
 "nbformat": 4,
 "nbformat_minor": 2
}
